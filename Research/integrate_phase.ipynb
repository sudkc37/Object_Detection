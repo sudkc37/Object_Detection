{
 "cells": [
  {
   "cell_type": "code",
   "execution_count": 1,
   "metadata": {},
   "outputs": [
    {
     "name": "stderr",
     "output_type": "stream",
     "text": [
      "/Users/sudipkhadka/Desktop/Object_Detection/.obj/lib/python3.12/site-packages/tqdm/auto.py:21: TqdmWarning: IProgress not found. Please update jupyter and ipywidgets. See https://ipywidgets.readthedocs.io/en/stable/user_install.html\n",
      "  from .autonotebook import tqdm as notebook_tqdm\n"
     ]
    }
   ],
   "source": [
    "from transformers import DetrImageProcessor\n",
    "import cv2"
   ]
  },
  {
   "cell_type": "code",
   "execution_count": 2,
   "metadata": {},
   "outputs": [],
   "source": [
    "import supervision as sv\n",
    "import torch\n",
    "from transformers import DetrForObjectDetection"
   ]
  },
  {
   "cell_type": "code",
   "execution_count": 3,
   "metadata": {},
   "outputs": [],
   "source": [
    "image_processor = DetrImageProcessor.from_pretrained('facebook/detr-resnet-50')\n",
    "box_annot = sv.BoxAnnotator()"
   ]
  },
  {
   "cell_type": "code",
   "execution_count": 4,
   "metadata": {},
   "outputs": [],
   "source": [
    "DEVICE = torch.device('cuda:0' if torch.cuda.is_available() else 'cpu')\n",
    "model1 = DetrForObjectDetection.from_pretrained('/Users/sudipkhadka/Desktop/Object_Detection/Research/trained_model')\n",
    "model1 = model1.to(DEVICE)"
   ]
  },
  {
   "cell_type": "code",
   "execution_count": 5,
   "metadata": {},
   "outputs": [],
   "source": [
    "import easyocr"
   ]
  },
  {
   "cell_type": "code",
   "execution_count": 6,
   "metadata": {},
   "outputs": [
    {
     "data": {
      "text/plain": [
       "'\\nimg_reader = easyocr.Reader([\\'en\\'], gpu=False)\\ncap = cv2.VideoCapture(0)\\nif not cap.isOpened():\\n    print(\\'Error: Could not access camera\\')\\n    exit()\\n\\nprint(\"Searching for License Plates........ Press \\'q\\' to exit\")\\n\\ntry:\\n    while True:\\n        ret, frame = cap.read()\\n        if not ret:\\n            print(\\'Error: Could not read frame\\')\\n            break\\n\\n        img = cv2.cvtColor(frame, cv2.COLOR_BGR2RGB)\\n        \\n        with torch.no_grad():\\n            input = image_processor(images=img, return_tensors=\\'pt\\').to(DEVICE)\\n            outputs = model1(**input)\\n\\n            CONFIDENCE_THRESHOLD = 0.85\\n            target_size = torch.tensor([img.shape[:2]]).to(DEVICE)\\n            results = image_processor.post_process_object_detection(\\n                outputs=outputs, threshold=CONFIDENCE_THRESHOLD, target_sizes=target_size\\n            )[0]\\n\\n            detections = sv.Detections.from_transformers(transformers_results=results)\\n\\n            for box in detections.xyxy:\\n                x_min, y_min, x_max, y_max = map(int, box)\\n                plate_img = frame[y_min:y_max, x_min:x_max]  # Extract the plate in BGR format\\n                \\n                # Perform OCR on the detected license plate\\n                plate_text = img_reader.readtext(plate_img, detail=0)  # Extract text only\\n                \\n                if plate_text:  # Ensure OCR detected some text\\n                    detected_text = plate_text[0]  # Get first detected text\\n                    print(f\"Detected Plate: {detected_text}\")\\n\\n                    text_position = (x_min, max(y_min - 10, 20))  # Display above the box\\n                    cv2.putText(\\n                        frame, f\"Plate: {detected_text}\", text_position,\\n                        cv2.FONT_HERSHEY_SIMPLEX, 0.8, (0, 255, 0), 2, cv2.LINE_AA\\n                    )\\n            \\n            frame = box_annot.annotate(scene=frame, detections=detections) \\n\\n            cv2.imshow(\\'License Plate Detection\\', frame)\\n            \\n            if cv2.waitKey(1) & 0xFF == ord(\\'q\\'):\\n                break\\nfinally:\\n    cap.release()\\n    cv2.destroyAllWindows()\\n    print(\\'Camera Released and all windows closed\\')\\n    '"
      ]
     },
     "execution_count": 6,
     "metadata": {},
     "output_type": "execute_result"
    }
   ],
   "source": [
    "\n",
    "img_reader = easyocr.Reader(['en'], gpu=False)\n",
    "cap = cv2.VideoCapture(0)\n",
    "if not cap.isOpened():\n",
    "    print('Error: Could not access camera')\n",
    "    exit()\n",
    "\n",
    "print(\"Searching for License Plates........ Press 'q' to exit\")\n",
    "\n",
    "try:\n",
    "    while True:\n",
    "        ret, frame = cap.read()\n",
    "        if not ret:\n",
    "            print('Error: Could not read frame')\n",
    "            break\n",
    "\n",
    "        img = cv2.cvtColor(frame, cv2.COLOR_BGR2RGB)\n",
    "        \n",
    "        with torch.no_grad():\n",
    "            input = image_processor(images=img, return_tensors='pt').to(DEVICE)\n",
    "            outputs = model1(**input)\n",
    "\n",
    "            CONFIDENCE_THRESHOLD = 0.85\n",
    "            target_size = torch.tensor([img.shape[:2]]).to(DEVICE)\n",
    "            results = image_processor.post_process_object_detection(\n",
    "                outputs=outputs, threshold=CONFIDENCE_THRESHOLD, target_sizes=target_size\n",
    "            )[0]\n",
    "\n",
    "            detections = sv.Detections.from_transformers(transformers_results=results)\n",
    "\n",
    "            for box in detections.xyxy:\n",
    "                x_min, y_min, x_max, y_max = map(int, box)\n",
    "                plate_img = frame[y_min:y_max, x_min:x_max]  # Extract the plate in BGR format\n",
    "                \n",
    "                # Perform OCR on the detected license plate\n",
    "                plate_text = img_reader.readtext(plate_img, detail=0)  # Extract text only\n",
    "                \n",
    "                if plate_text:  # Ensure OCR detected some text\n",
    "                    detected_text = plate_text[0]  # Get first detected text\n",
    "                    print(f\"Detected Plate: {detected_text}\")\n",
    "\n",
    "                    text_position = (x_min, max(y_min - 10, 20))  # Display above the box\n",
    "                    cv2.putText(\n",
    "                        frame, f\"Plate: {detected_text}\", text_position,\n",
    "                        cv2.FONT_HERSHEY_SIMPLEX, 0.8, (0, 255, 0), 2, cv2.LINE_AA\n",
    "                    )\n",
    "            \n",
    "            frame = box_annot.annotate(scene=frame, detections=detections) \n",
    "\n",
    "            cv2.imshow('License Plate Detection', frame)\n",
    "            \n",
    "            if cv2.waitKey(1) & 0xFF == ord('q'):\n",
    "                break\n",
    "finally:\n",
    "    cap.release()\n",
    "    cv2.destroyAllWindows()\n",
    "    print('Camera Released and all windows closed')"
   ]
  }
 ],
 "metadata": {
  "kernelspec": {
   "display_name": ".obj",
   "language": "python",
   "name": "python3"
  },
  "language_info": {
   "codemirror_mode": {
    "name": "ipython",
    "version": 3
   },
   "file_extension": ".py",
   "mimetype": "text/x-python",
   "name": "python",
   "nbconvert_exporter": "python",
   "pygments_lexer": "ipython3",
   "version": "3.12.2"
  }
 },
 "nbformat": 4,
 "nbformat_minor": 2
}
